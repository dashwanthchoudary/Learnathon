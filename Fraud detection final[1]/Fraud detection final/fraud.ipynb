{
 "cells": [
  {
   "cell_type": "code",
   "execution_count": 32,
   "id": "8f21283a-0a4a-4401-b57e-62a1d2ce8d37",
   "metadata": {},
   "outputs": [],
   "source": [
    "import pandas as pd\n",
    "import numpy as np\n",
    "from sklearn.model_selection import train_test_split\n",
    "from sklearn.preprocessing import StandardScaler, OneHotEncoder\n",
    "from sklearn.compose import ColumnTransformer\n",
    "from sklearn.pipeline import Pipeline\n",
    "from sklearn.impute import SimpleImputer\n",
    "\n",
    "# Load the data\n",
    "df = pd.read_csv(r\"C:\\Users\\abhij\\Downloads\\drive-download-20250725T092654Z-1-001\\Auto_Insurance_Fraud_Claims_File01.csv\")\n",
    "\n",
    "# Convert Fraud_Ind to binary (1 for fraud, 0 for non-fraud)\n",
    "df['Fraud'] = df['Fraud_Ind'].apply(lambda x: 1 if x == 'Y' else 0)\n",
    "\n",
    "# Drop unnecessary columns\n",
    "cols_to_drop = ['Claim_ID', 'Bind_Date1', 'Policy_Num', 'Fraud_Ind', 'Check_Point', \n",
    "                'Vehicle_Registration', 'DL_Expiry_Date', 'Claims_Date', \n",
    "                'Policy_Start_Date', 'Policy_Expiry_Date']\n",
    "df = df.drop(cols_to_drop, axis=1)\n",
    "\n",
    "# Separate features and target\n",
    "X = df.drop('Fraud', axis=1)\n",
    "y = df['Fraud']\n",
    "\n",
    "# Split data\n",
    "X_train, X_test, y_train, y_test = train_test_split(X, y, test_size=0.2, random_state=42, stratify=y)"
   ]
  },
  {
   "cell_type": "code",
   "execution_count": 34,
   "id": "7eb0d6c0-572e-4fff-9440-bf9e030a64cd",
   "metadata": {},
   "outputs": [],
   "source": [
    "# Feature engineering function\n",
    "def create_features(df):\n",
    "    # Time-based features\n",
    "    df['Vehicle_Age'] = 2024 - df['Auto_Year']  # Assuming current year is 2024\n",
    "    \n",
    "    # Claim ratios\n",
    "    df['Injury_to_Total_Ratio'] = df['Injury_Claim'] / df['Total_Claim']\n",
    "    df['Property_to_Total_Ratio'] = df['Property_Claim'] / df['Total_Claim']\n",
    "    df['Vehicle_to_Total_Ratio'] = df['Vehicle_Claim'] / df['Total_Claim']\n",
    "    \n",
    "    # Policy duration (assuming accident date is close to claim date)\n",
    "    # Would be better with actual dates, but we'll approximate\n",
    "    \n",
    "    # Flag for state mismatch\n",
    "    df['State_Mismatch'] = (df['Policy_State'] != df['Acccident_State']).astype(int)\n",
    "    \n",
    "    # Fill infinite values and NaNs that might have been created\n",
    "    df.replace([np.inf, -np.inf], np.nan, inplace=True)\n",
    "    df.fillna(0, inplace=True)\n",
    "    \n",
    "    return df\n",
    "\n",
    "# Apply feature engineering\n",
    "X_train = create_features(X_train)\n",
    "X_test = create_features(X_test)"
   ]
  },
  {
   "cell_type": "code",
   "execution_count": 36,
   "id": "3d79b6c7-a223-4aa2-b853-b092b5a88dff",
   "metadata": {},
   "outputs": [],
   "source": [
    "# Identify numerical and categorical columns\n",
    "numerical_cols = X_train.select_dtypes(include=['int64', 'float64']).columns\n",
    "categorical_cols = X_train.select_dtypes(include=['object']).columns\n",
    "\n",
    "# Preprocessing for numerical data\n",
    "numerical_transformer = Pipeline(steps=[\n",
    "    ('imputer', SimpleImputer(strategy='median')),\n",
    "    ('scaler', StandardScaler())])\n",
    "\n",
    "# Preprocessing for categorical data\n",
    "categorical_transformer = Pipeline(steps=[\n",
    "    ('imputer', SimpleImputer(strategy='most_frequent')),\n",
    "    ('onehot', OneHotEncoder(handle_unknown='ignore'))])\n",
    "\n",
    "# Bundle preprocessing\n",
    "preprocessor = ColumnTransformer(\n",
    "    transformers=[\n",
    "        ('num', numerical_transformer, numerical_cols),\n",
    "        ('cat', categorical_transformer, categorical_cols)])"
   ]
  },
  {
   "cell_type": "code",
   "execution_count": 40,
   "id": "a143abfe-38d1-41aa-b7b3-1220ed635c67",
   "metadata": {},
   "outputs": [
    {
     "name": "stdout",
     "output_type": "stream",
     "text": [
      "\n",
      "Numerical columns: ['Customer_Life_Value1', 'Age_Insured', 'Policy_Ded', 'Policy_Premium', 'Umbrella_Limit', 'Insured_Zip', 'Capital_Gains', 'Capital_Loss', 'Accident_Hour', 'Num_of_Vehicles_Involved', 'Bodily_Injuries', 'Witnesses', 'Auto_Year', 'Vehicle_Cost', 'Annual_Mileage', 'DiffIN_Mileage', 'Low_Mileage_Discount', 'Commute_Discount', 'Total_Claim', 'Injury_Claim', 'Property_Claim', 'Vehicle_Claim', 'Vehicle_Age', 'Injury_to_Total_Ratio', 'Property_to_Total_Ratio', 'Vehicle_to_Total_Ratio']\n",
      "\n",
      "Categorical columns: ['Policy_State', 'Policy_BI', 'Gender', 'Education', 'Occupation', 'Hobbies', 'Insured_Relationship', 'Garage_Location', 'Accident_Date', 'Accident_Type', 'Collision_Type', 'Accident_Severity', 'authorities_contacted', 'Acccident_State', 'Acccident_City', 'Accident_Location', 'Property_Damage', 'Police_Report', 'Auto_Make', 'Auto_Model', 'Vehicle_Color']\n"
     ]
    }
   ],
   "source": [
    "from sklearn.ensemble import RandomForestClassifier\n",
    "from sklearn.metrics import classification_report, confusion_matrix, roc_auc_score\n",
    "\n",
    "# Define model\n",
    "# Ensure consistent data types\n",
    "for col in X_train.columns:\n",
    "    # If column has mixed types, convert all to string\n",
    "    if X_train[col].apply(type).nunique() > 1:\n",
    "        X_train[col] = X_train[col].astype(str)\n",
    "        X_test[col] = X_test[col].astype(str)\n",
    "    \n",
    "    # Convert potential number columns stored as strings\n",
    "    if X_train[col].dtype == 'object':\n",
    "        try:\n",
    "            X_train[col] = pd.to_numeric(X_train[col])\n",
    "            X_test[col] = pd.to_numeric(X_test[col])\n",
    "        except ValueError:\n",
    "            pass  # Leave as string if conversion fails\n",
    "\n",
    "# Re-define numerical and categorical columns\n",
    "numerical_cols = X_train.select_dtypes(include=['int64', 'float64']).columns\n",
    "categorical_cols = X_train.select_dtypes(include=['object']).columns\n",
    "\n",
    "# Print column types for verification\n",
    "print(\"\\nNumerical columns:\", numerical_cols.tolist())\n",
    "print(\"\\nCategorical columns:\", categorical_cols.tolist())\n",
    "\n",
    "# Proceed with the pipeline definition as before..."
   ]
  },
  {
   "cell_type": "code",
   "execution_count": 42,
   "id": "5a53dc62-096d-412b-a9ad-fd064c7463c4",
   "metadata": {},
   "outputs": [],
   "source": [
    "from sklearn.compose import ColumnTransformer\n",
    "from sklearn.pipeline import Pipeline\n",
    "from sklearn.preprocessing import StandardScaler, OneHotEncoder\n",
    "from sklearn.impute import SimpleImputer\n",
    "\n",
    "# Define numerical and categorical columns (from your output)\n",
    "numerical_cols = ['Customer_Life_Value1', 'Age_Insured', 'Policy_Ded', 'Policy_Premium', \n",
    "                 'Umbrella_Limit', 'Insured_Zip', 'Capital_Gains', 'Capital_Loss', \n",
    "                 'Accident_Hour', 'Num_of_Vehicles_Involved', 'Bodily_Injuries', \n",
    "                 'Witnesses', 'Auto_Year', 'Vehicle_Cost', 'Annual_Mileage', \n",
    "                 'DiffIN_Mileage', 'Low_Mileage_Discount', 'Commute_Discount', \n",
    "                 'Total_Claim', 'Injury_Claim', 'Property_Claim', 'Vehicle_Claim', \n",
    "                 'Vehicle_Age', 'Injury_to_Total_Ratio', 'Property_to_Total_Ratio', \n",
    "                 'Vehicle_to_Total_Ratio']\n",
    "\n",
    "categorical_cols = ['Policy_State', 'Policy_BI', 'Gender', 'Education', 'Occupation', \n",
    "                   'Hobbies', 'Insured_Relationship', 'Garage_Location', 'Accident_Date', \n",
    "                   'Accident_Type', 'Collision_Type', 'Accident_Severity', \n",
    "                   'authorities_contacted', 'Acccident_State', 'Acccident_City', \n",
    "                   'Accident_Location', 'Property_Damage', 'Police_Report', 'Auto_Make', \n",
    "                   'Auto_Model', 'Vehicle_Color']\n",
    "\n",
    "# Numerical transformer - handles missing values and scaling\n",
    "numerical_transformer = Pipeline(steps=[\n",
    "    ('imputer', SimpleImputer(strategy='median')),  # Median imputation for robustness\n",
    "    ('scaler', StandardScaler())                   # Standardize numerical features\n",
    "])\n",
    "\n",
    "# Categorical transformer - handles missing values and encoding\n",
    "categorical_transformer = Pipeline(steps=[\n",
    "    ('imputer', SimpleImputer(strategy='constant', fill_value='missing')),  # Fill missing categories\n",
    "    ('onehot', OneHotEncoder(handle_unknown='ignore', sparse_output=False)) # One-hot encode\n",
    "])\n",
    "\n",
    "# Combine preprocessing steps\n",
    "preprocessor = ColumnTransformer(\n",
    "    transformers=[\n",
    "        ('num', numerical_transformer, numerical_cols),\n",
    "        ('cat', categorical_transformer, categorical_cols)],\n",
    "    remainder='drop')  # Drop any columns not explicitly handled\n",
    "\n",
    "# Example of how to use this in a full pipeline\n",
    "from sklearn.ensemble import RandomForestClassifier\n",
    "\n",
    "pipeline = Pipeline(steps=[\n",
    "    ('preprocessor', preprocessor),\n",
    "    ('classifier', RandomForestClassifier(\n",
    "        n_estimators=200,\n",
    "        class_weight='balanced',\n",
    "        random_state=42,\n",
    "        max_depth=10,\n",
    "        n_jobs=-1\n",
    "    ))\n",
    "])"
   ]
  },
  {
   "cell_type": "code",
   "execution_count": 44,
   "id": "d10bf0da-4456-4b9e-9358-0b572c4a5732",
   "metadata": {},
   "outputs": [],
   "source": [
    "df['Accident_Date'] = pd.to_datetime(df['Accident_Date'])\n",
    "df['Accident_DayOfWeek'] = df['Accident_Date'].dt.dayofweek\n",
    "df['Accident_Month'] = df['Accident_Date'].dt.month\n",
    "# Then add these to numerical_cols and remove 'Accident_Date' from categorical_cols"
   ]
  },
  {
   "cell_type": "code",
   "execution_count": 46,
   "id": "ab36af9d-c5af-4b1e-935f-8bffe9ca20fa",
   "metadata": {},
   "outputs": [],
   "source": [
    "from sklearn.feature_selection import SelectFromModel\n",
    "\n",
    "pipeline = Pipeline(steps=[\n",
    "    ('preprocessor', preprocessor),\n",
    "    ('feature_selection', SelectFromModel(\n",
    "        RandomForestClassifier(n_estimators=100, random_state=42),\n",
    "        threshold='median')),\n",
    "    ('classifier', RandomForestClassifier())\n",
    "])"
   ]
  },
  {
   "cell_type": "code",
   "execution_count": 50,
   "id": "a0996f98-a6ae-4ff4-8fd0-ebbee646c9ab",
   "metadata": {},
   "outputs": [],
   "source": [
    "from sklearn.ensemble import RandomForestClassifier\n",
    "from sklearn.metrics import classification_report, confusion_matrix, roc_auc_score\n",
    "\n",
    "# Define model\n",
    "model = RandomForestClassifier(\n",
    "    n_estimators=200,\n",
    "    class_weight='balanced',\n",
    "    random_state=42,\n",
    "    max_depth=10,\n",
    "    n_jobs=-1\n",
    ")\n",
    "\n",
    "# Create pipeline\n",
    "pipeline = Pipeline(steps=[\n",
    "    ('preprocessor', preprocessor),\n",
    "    ('model', model)\n",
    "])\n",
    "\n",
    "# Train model\n",
    "pipeline.fit(X_train, y_train)\n",
    "\n",
    "# Predictions\n",
    "y_pred = pipeline.predict(X_test)\n",
    "y_proba = pipeline.predict_proba(X_test)[:, 1]"
   ]
  },
  {
   "cell_type": "code",
   "execution_count": 52,
   "id": "2567a23f-c708-47c8-9d52-cc95f175e119",
   "metadata": {},
   "outputs": [
    {
     "name": "stdout",
     "output_type": "stream",
     "text": [
      "Classification Report:\n",
      "              precision    recall  f1-score   support\n",
      "\n",
      "           0       0.99      0.90      0.94      6024\n",
      "           1       0.76      0.98      0.86      1976\n",
      "\n",
      "    accuracy                           0.92      8000\n",
      "   macro avg       0.88      0.94      0.90      8000\n",
      "weighted avg       0.94      0.92      0.92      8000\n",
      "\n",
      "\n",
      "Confusion Matrix:\n",
      "[[5414  610]\n",
      " [  31 1945]]\n",
      "\n",
      "ROC AUC Score: 0.994927173895511\n"
     ]
    },
    {
     "data": {
      "image/png": "[encoded data removed]",
      "text/plain": [
       "<Figure size 640x480 with 1 Axes>"
      ]
     },
     "metadata": {},
     "output_type": "display_data"
    }
   ],
   "source": [
    "from sklearn.metrics import precision_recall_curve, average_precision_score\n",
    "import matplotlib.pyplot as plt\n",
    "\n",
    "# Classification report\n",
    "print(\"Classification Report:\")\n",
    "print(classification_report(y_test, y_pred))\n",
    "\n",
    "# Confusion matrix\n",
    "print(\"\\nConfusion Matrix:\")\n",
    "print(confusion_matrix(y_test, y_pred))\n",
    "\n",
    "# ROC AUC\n",
    "print(\"\\nROC AUC Score:\", roc_auc_score(y_test, y_proba))\n",
    "\n",
    "# Precision-Recall curve\n",
    "precision, recall, _ = precision_recall_curve(y_test, y_proba)\n",
    "average_precision = average_precision_score(y_test, y_proba)\n",
    "\n",
    "plt.figure()\n",
    "plt.step(recall, precision, where='post')\n",
    "plt.xlabel('Recall')\n",
    "plt.ylabel('Precision')\n",
    "plt.title('Precision-Recall curve: AP={0:0.2f}'.format(average_precision))\n",
    "plt.show()"
   ]
  },
  {
   "cell_type": "code",
   "execution_count": 54,
   "id": "f30297f0-e2cd-4089-898a-a58e9774ab97",
   "metadata": {},
   "outputs": [
    {
     "name": "stdout",
     "output_type": "stream",
     "text": [
      "\n",
      "Top 20 Important Features:\n",
      "1. Accident_Severity_Major Damage: 0.14384955264603067\n",
      "2. Accident_Severity_Minor Damage: 0.05665380701715783\n",
      "3. Hobbies_chess: 0.051615222095888855\n",
      "4. Accident_Severity_Total Loss: 0.039369273425141744\n",
      "5. Hobbies_cross-fit: 0.02599835159215615\n",
      "6. Collision_Type_Unknown: 0.024628837554977263\n",
      "7. Insured_Zip: 0.02079364953298668\n",
      "8. Accident_Severity_Trivial Damage: 0.019291466710592987\n",
      "9. Policy_Premium: 0.018692813374333768\n",
      "10. Accident_Type_Vehicle Theft: 0.017025932478501166\n",
      "11. authorities_contacted_0: 0.014972497562935696\n",
      "12. Accident_Hour: 0.014897953376229497\n",
      "13. Vehicle_Cost: 0.014271562446284976\n",
      "14. Age_Insured: 0.013259907904947164\n",
      "15. Auto_Year: 0.011646298664205836\n",
      "16. Capital_Gains: 0.011315788067612067\n",
      "17. Witnesses: 0.010452792492104459\n",
      "18. Vehicle_Age: 0.010428408923526495\n",
      "19. Capital_Loss: 0.009442886619366202\n",
      "20. Hobbies_camping: 0.008686011062153694\n"
     ]
    }
   ],
   "source": [
    "# Get feature names after one-hot encoding\n",
    "onehot_columns = pipeline.named_steps['preprocessor'].named_transformers_['cat'].named_steps['onehot'].get_feature_names_out(categorical_cols)\n",
    "all_features = np.concatenate([numerical_cols, onehot_columns])\n",
    "\n",
    "# Get feature importances\n",
    "importances = pipeline.named_steps['model'].feature_importances_\n",
    "indices = np.argsort(importances)[::-1]\n",
    "\n",
    "# Print top 20 features\n",
    "print(\"\\nTop 20 Important Features:\")\n",
    "for f in range(20):\n",
    "    print(f\"{f+1}. {all_features[indices[f]]}: {importances[indices[f]]}\")"
   ]
  },
  {
   "cell_type": "code",
   "execution_count": 56,
   "id": "2cde8104-68dc-4278-84db-8c729dedb88f",
   "metadata": {},
   "outputs": [
    {
     "name": "stdout",
     "output_type": "stream",
     "text": [
      "\n",
      "Classification Report with SMOTE:\n",
      "              precision    recall  f1-score   support\n",
      "\n",
      "           0       0.99      0.90      0.94      6024\n",
      "           1       0.76      0.97      0.85      1976\n",
      "\n",
      "    accuracy                           0.92      8000\n",
      "   macro avg       0.87      0.93      0.90      8000\n",
      "weighted avg       0.93      0.92      0.92      8000\n",
      "\n"
     ]
    }
   ],
   "source": [
    "from imblearn.over_sampling import SMOTE\n",
    "from imblearn.pipeline import Pipeline as ImbPipeline\n",
    "\n",
    "# Redefine pipeline with SMOTE\n",
    "model_smote = RandomForestClassifier(\n",
    "    n_estimators=200,\n",
    "    random_state=42,\n",
    "    max_depth=10,\n",
    "    n_jobs=-1\n",
    ")\n",
    "\n",
    "pipeline_smote = ImbPipeline(steps=[\n",
    "    ('preprocessor', preprocessor),\n",
    "    ('smote', SMOTE(random_state=42)),\n",
    "    ('model', model_smote)\n",
    "])\n",
    "\n",
    "pipeline_smote.fit(X_train, y_train)\n",
    "y_pred_smote = pipeline_smote.predict(X_test)\n",
    "\n",
    "print(\"\\nClassification Report with SMOTE:\")\n",
    "print(classification_report(y_test, y_pred_smote))"
   ]
  },
  {
   "cell_type": "code",
   "execution_count": 58,
   "id": "a0de83dc-9df0-4e78-ae0e-9cf35bf9e2ab",
   "metadata": {},
   "outputs": [
    {
     "data": {
      "text/plain": [
       "['insurance_fraud_model.pkl']"
      ]
     },
     "execution_count": 58,
     "metadata": {},
     "output_type": "execute_result"
    }
   ],
   "source": [
    "import joblib\n",
    "\n",
    "# Save the model\n",
    "joblib.dump(pipeline, 'insurance_fraud_model.pkl')\n",
    "\n",
    "# Example of loading and using the model\n",
    "# loaded_model = joblib.load('insurance_fraud_model.pkl')\n",
    "# new_predictions = loaded_model.predict(new_data)"
   ]
  },
  {
   "cell_type": "code",
   "execution_count": 60,
   "id": "eb885fb9-11cb-4fed-9c33-afa351524153",
   "metadata": {},
   "outputs": [
    {
     "name": "stderr",
     "output_type": "stream",
     "text": [
      "2025-07-25 16:27:23.413 \n",
      "  \u001b[33m\u001b[1mWarning:\u001b[0m to view this Streamlit app on a browser, run it with the following\n",
      "  command:\n",
      "\n",
      "    streamlit run C:\\Users\\abhij\\anaconda3\\Lib\\site-packages\\ipykernel_launcher.py [ARGUMENTS]\n",
      "2025-07-25 16:27:23.413 Session state does not function when running a script without `streamlit run`\n"
     ]
    }
   ],
   "source": [
    "import streamlit as st\n",
    "import pandas as pd\n",
    "import joblib\n",
    "\n",
    "# Load your trained model\n",
    "model = joblib.load('insurance_fraud_model.pkl')\n",
    "\n",
    "st.title(\"Insurance Fraud Detection System\")\n",
    "\n",
    "# Input form\n",
    "with st.form(\"claim_form\"):\n",
    "    st.header(\"Claim Details\")\n",
    "    \n",
    "    # Numerical inputs\n",
    "    total_claim = st.number_input(\"Total Claim Amount ($)\", min_value=0)\n",
    "    vehicle_cost = st.number_input(\"Vehicle Value ($)\", min_value=0)\n",
    "    injury_claim = st.number_input(\"Injury Claim Amount ($)\", min_value=0)\n",
    "    \n",
    "    # Categorical inputs\n",
    "    accident_type = st.selectbox(\"Accident Type\", \n",
    "                               [\"Collision\", \"Theft\", \"Other\"])\n",
    "    policy_state = st.selectbox(\"Policy State\", \n",
    "                              [\"CA\", \"NY\", \"TX\", \"FL\", \"OH\"])\n",
    "    accident_state = st.selectbox(\"Accident State\", \n",
    "                                [\"CA\", \"NY\", \"TX\", \"FL\", \"OH\"])\n",
    "    \n",
    "    # Date inputs\n",
    "    policy_start = st.date_input(\"Policy Start Date\")\n",
    "    accident_date = st.date_input(\"Accident Date\")\n",
    "    \n",
    "    submitted = st.form_submit_button(\"Check for Fraud\")\n",
    "\n",
    "if submitted:\n",
    "    # Prepare input data\n",
    "    input_data = pd.DataFrame({\n",
    "        'Total_Claim': [total_claim],\n",
    "        'Vehicle_Cost': [vehicle_cost],\n",
    "        'Injury_Claim': [injury_claim],\n",
    "        'Accident_Type': [accident_type],\n",
    "        'Policy_State': [policy_state],\n",
    "        'Acccident_State': [accident_state],\n",
    "        'Days_Since_Policy_Start': [(accident_date - policy_start).days],\n",
    "        'Claim_to_VehicleValue_Ratio': [total_claim / vehicle_cost if vehicle_cost > 0 else 0]\n",
    "    })\n",
    "    \n",
    "    # Make prediction\n",
    "    fraud_prob = model.predict_proba(input_data)[0][1]\n",
    "    is_fraud = fraud_prob > 0.5  # Or use your optimal threshold\n",
    "    \n",
    "    # Display results\n",
    "    st.subheader(\"Results\")\n",
    "    st.metric(\"Fraud Probability\", f\"{fraud_prob:.1%}\")\n",
    "    \n",
    "    if is_fraud:\n",
    "        st.error(\"🚨 High fraud risk detected!\")\n",
    "        st.write(\"Recommended actions: Manual review required\")\n",
    "    else:\n",
    "        st.success(\"✅ Low fraud risk\")\n",
    "        st.write(\"Recommended actions: Standard processing\")\n",
    "    \n",
    "    # Show explanation\n",
    "    st.subheader(\"Key Factors\")\n",
    "    st.write(\"Top contributing factors to this prediction:\")\n",
    "    # Add code to display feature importance for this specific prediction"
   ]
  },
  {
   "cell_type": "code",
   "execution_count": 62,
   "id": "b68bc310-b491-4d6a-85be-511825bbc1f0",
   "metadata": {},
   "outputs": [
    {
     "ename": "SyntaxError",
     "evalue": "invalid syntax (1641950924.py, line 1)",
     "output_type": "error",
     "traceback": [
      "\u001b[1;36m  Cell \u001b[1;32mIn[62], line 1\u001b[1;36m\u001b[0m\n\u001b[1;33m    streamlit run C:\\Users\\abhij\\anaconda3\\Lib\\site-packages\\ipykernel_launcher.py\u001b[0m\n\u001b[1;37m              ^\u001b[0m\n\u001b[1;31mSyntaxError\u001b[0m\u001b[1;31m:\u001b[0m invalid syntax\n"
     ]
    }
   ],
   "source": [
    "streamlit run C:\\Users\\abhij\\anaconda3\\Lib\\site-packages\\ipykernel_launcher.py"
   ]
  },
  {
   "cell_type": "code",
   "execution_count": null,
   "id": "ac40f8d0-dd41-4029-885b-ae61bfb09771",
   "metadata": {},
   "outputs": [],
   "source": []
  }
 ],
 "metadata": {
  "kernelspec": {
   "display_name": "Python 3 (ipykernel)",
   "language": "python",
   "name": "python3"
  },
  "language_info": {
   "codemirror_mode": {
    "name": "ipython",
    "version": 3
   },
   "file_extension": ".py",
   "mimetype": "text/x-python",
   "name": "python",
   "nbconvert_exporter": "python",
   "pygments_lexer": "ipython3",
   "version": "3.12.4"
  }
 },
 "nbformat": 4,
 "nbformat_minor": 5
}
